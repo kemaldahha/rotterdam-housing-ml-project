{
 "cells": [
  {
   "cell_type": "markdown",
   "metadata": {},
   "source": [
    "# Data Reading"
   ]
  },
  {
   "cell_type": "code",
   "execution_count": null,
   "metadata": {},
   "outputs": [],
   "source": [
    "import pandas as pd\n",
    "\n",
    "\n",
    "df = pd.read_csv(\"data/funda-rotterdam-11-18-2024.csv\")"
   ]
  },
  {
   "cell_type": "code",
   "execution_count": null,
   "metadata": {},
   "outputs": [],
   "source": [
    "df.head()"
   ]
  },
  {
   "cell_type": "markdown",
   "metadata": {},
   "source": [
    "# Data Preparation"
   ]
  },
  {
   "cell_type": "markdown",
   "metadata": {},
   "source": [
    "Let's first check the shape of the DataFrame:"
   ]
  },
  {
   "cell_type": "code",
   "execution_count": null,
   "metadata": {},
   "outputs": [],
   "source": [
    "df.shape"
   ]
  },
  {
   "cell_type": "markdown",
   "metadata": {},
   "source": [
    "There are 4650 samples and 33 columns"
   ]
  },
  {
   "cell_type": "markdown",
   "metadata": {},
   "source": [
    "## Standardize Column Names"
   ]
  },
  {
   "cell_type": "code",
   "execution_count": null,
   "metadata": {},
   "outputs": [],
   "source": [
    "df.columns"
   ]
  },
  {
   "cell_type": "markdown",
   "metadata": {},
   "source": [
    "Two changes are made. The period `.` is replaced by `_` such that we can make use of attribute-style access to column names, and the term `blikvanger` is replaced by its English translation, which is `eyecatcher`:"
   ]
  },
  {
   "cell_type": "code",
   "execution_count": null,
   "metadata": {},
   "outputs": [],
   "source": [
    "df.columns = (\n",
    "    df.columns\n",
    "    .str.replace(\".\", \"_\")\n",
    "    .str.replace(\"blikvanger\", \"eyecatcher\")\n",
    ")"
   ]
  },
  {
   "cell_type": "markdown",
   "metadata": {},
   "source": [
    "## Filtering Data"
   ]
  },
  {
   "cell_type": "markdown",
   "metadata": {},
   "source": [
    "Not all the data we have is of interest. There is one column `object_type`, which contains information on what kind of property is being sold:"
   ]
  },
  {
   "cell_type": "code",
   "execution_count": null,
   "metadata": {},
   "outputs": [],
   "source": [
    "df.object_type.unique()"
   ]
  },
  {
   "cell_type": "markdown",
   "metadata": {},
   "source": [
    "For this project we are only interested in apartments and houses, so we will filter out the rest:"
   ]
  },
  {
   "cell_type": "code",
   "execution_count": null,
   "metadata": {},
   "outputs": [],
   "source": [
    "df = df[df.object_type.isin([\"apartment\", \"house\"])]"
   ]
  },
  {
   "cell_type": "code",
   "execution_count": null,
   "metadata": {},
   "outputs": [],
   "source": [
    "df.shape"
   ]
  },
  {
   "cell_type": "markdown",
   "metadata": {},
   "source": [
    "This filtered out 88 samples."
   ]
  },
  {
   "cell_type": "markdown",
   "metadata": {},
   "source": [
    "There is another column `object_type_specifications_house_type` which specifies what type of house it is. It has the following values:"
   ]
  },
  {
   "cell_type": "markdown",
   "metadata": {},
   "source": [
    "We are not interested in boats:"
   ]
  },
  {
   "cell_type": "code",
   "execution_count": null,
   "metadata": {},
   "outputs": [],
   "source": [
    "df = df[df.object_type_specifications_house_type!=\"house_boat\"]"
   ]
  },
  {
   "cell_type": "markdown",
   "metadata": {},
   "source": [
    "## Check for missing values"
   ]
  },
  {
   "cell_type": "markdown",
   "metadata": {},
   "source": [
    "Let's first check the percentage of missing values per column:"
   ]
  },
  {
   "cell_type": "code",
   "execution_count": null,
   "metadata": {},
   "outputs": [],
   "source": [
    "df.isna().mean().sort_values(ascending=False)"
   ]
  },
  {
   "cell_type": "code",
   "execution_count": null,
   "metadata": {},
   "outputs": [],
   "source": [
    "import numpy as np\n",
    "import ast\n",
    "\n",
    "def list_to_ohe(df, column):\n",
    "    try:\n",
    "        return (\n",
    "            df\n",
    "            .assign(**{f\"{column}_{v}\": df[column].apply(ast.literal_eval).apply(lambda x: v in x) for v in set(df[column].apply(ast.literal_eval).sum())})\n",
    "            .drop(columns=column)\n",
    "        )\n",
    "    except ValueError:\n",
    "        return (\n",
    "            df\n",
    "            .assign(**{f\"{column}_{v}\": df[column].apply(lambda x: v in x)  for v in set(df[column].sum())})\n",
    "            .drop(columns=column)\n",
    "        )\n",
    "\n",
    "df = (\n",
    "    df\n",
    "    .assign(\n",
    "        object_type_specifications_appartment_type=df.object_type_specifications_appartment_type.fillna(\"not_applicable\").astype(\"string\"),\n",
    "        object_type_specifications_house_type=df.object_type_specifications_house_type.fillna(\"not_available\").astype(\"string\"),\n",
    "        object_type_specifications_house_orientation=df.object_type_specifications_house_type.fillna(\"not_available\").astype(\"string\"),\n",
    "        exterior_space_garden_size=pd.to_numeric(df.exterior_space_garden_size.fillna(0), downcast=\"integer\"),\n",
    "        publish_date=pd.to_datetime(df.publish_date, format=\"mixed\"),\n",
    "        floor_area=pd.to_numeric(df.floor_area.str.extract(r\"\\[(\\d+)\\]\")[0], downcast=\"integer\"),\n",
    "        plot_area=pd.to_numeric(df.plot_area.str.extract(r\"\\[(\\d+)\\]\")[0], downcast=\"integer\"),\n",
    "        number_of_rooms=pd.to_numeric(df.number_of_rooms, downcast=\"integer\"),\n",
    "        number_of_bedrooms=pd.to_numeric(df.number_of_bedrooms, downcast=\"integer\"),\n",
    "        offering_type=df.offering_type.str.extract(r\"\\['([a-z]+)'\\]\")[0].astype(\"string\"),\n",
    "        garage_total_capacity=df.garage_total_capacity.fillna(0),\n",
    "        price_selling_price=pd.to_numeric(df.price_selling_price.str.extract(r\"\\[(\\d+)\\]\")[0], downcast=\"integer\"),\n",
    "    )\n",
    "    .query('''price_selling_price > 1e5''')\n",
    "    # .assign(price_selling_price=lambda df_: df_.price_selling_price.apply(np.log1p))\n",
    "    .pipe(list_to_ohe, column=\"exterior_space_type\")\n",
    "    .pipe(list_to_ohe, column=\"exterior_space_garden_orientation\")\n",
    "    .pipe(list_to_ohe, column=\"surrounding\")\n",
    "    .pipe(list_to_ohe, column=\"garage_type\")\n",
    "    .pipe(list_to_ohe, column=\"amenities\")\n",
    "    .pipe(list_to_ohe, column=\"accessibility\")\n",
    "    .astype({\n",
    "        \"address_municipality\": \"string\",\n",
    "        \"price_selling_price_condition\": \"string\",\n",
    "        \"construction_type\": \"string\",\n",
    "        \"construction_period\": \"string\",\n",
    "        \"object_type\": \"string\",\n",
    "        \"energy_label\": \"string\",\n",
    "    })\n",
    "    .query('''offering_type==\"buy\"''')\n",
    "    .drop(\n",
    "        columns=[\n",
    "            \"publish_date\",\n",
    "            \"address_neighbourhood\", \n",
    "            \"address_wijk\", \n",
    "            \"address_province\", \n",
    "            \"address_street_name\",\n",
    "            \"eyecatcher_text\",\n",
    "            \"project_url\",\n",
    "            \"offering_type\",\n",
    "        ]\n",
    "    )\n",
    ")"
   ]
  },
  {
   "cell_type": "code",
   "execution_count": null,
   "metadata": {},
   "outputs": [],
   "source": [
    "from sklearn.model_selection import train_test_split\n",
    "\n",
    "df_full_train, df_test = train_test_split(df, test_size=0.2, random_state=1)\n",
    "df_train, df_val = train_test_split(df_full_train, test_size=0.25, random_state=1)"
   ]
  },
  {
   "cell_type": "code",
   "execution_count": null,
   "metadata": {},
   "outputs": [],
   "source": [
    "df_full_train = df_full_train.reset_index(drop=True)\n",
    "df_train = df_train.reset_index(drop=True)\n",
    "df_val = df_val.reset_index(drop=True)\n",
    "df_test = df_test.reset_index(drop=True)"
   ]
  },
  {
   "cell_type": "code",
   "execution_count": null,
   "metadata": {},
   "outputs": [],
   "source": [
    "y_train = df_train.price_selling_price.values\n",
    "y_val = df_val.price_selling_price.values\n",
    "y_test = df_test.price_selling_price.values"
   ]
  },
  {
   "cell_type": "code",
   "execution_count": null,
   "metadata": {},
   "outputs": [],
   "source": [
    "from sklearn.feature_extraction import DictVectorizer\n",
    "\n",
    "dicts_train = df_train.drop(columns=\"price_selling_price\").to_dict(orient=\"records\")\n",
    "dicts_val = df_val.drop(columns=\"price_selling_price\").to_dict(orient=\"records\")\n",
    "dv = DictVectorizer(sparse=False)\n",
    "dv.fit(dicts_train)\n",
    "\n",
    "X_train = dv.transform(dicts_train)\n",
    "X_val = dv.transform(dicts_val)"
   ]
  },
  {
   "cell_type": "code",
   "execution_count": null,
   "metadata": {},
   "outputs": [],
   "source": [
    "from sklearn.linear_model import LinearRegression\n",
    "\n",
    "model = LinearRegression()\n",
    "model.fit(X_train, y_train)\n",
    "y_pred_train = model.predict(X_train)\n",
    "y_pred_val = model.predict(X_val)"
   ]
  },
  {
   "cell_type": "code",
   "execution_count": null,
   "metadata": {},
   "outputs": [],
   "source": [
    "from sklearn.metrics import root_mean_squared_error\n",
    "\n",
    "rmse_train = root_mean_squared_error(y_train, y_pred_train)\n",
    "rmse_val = root_mean_squared_error(y_val, y_pred_val)\n",
    "\n",
    "print(rmse_train)\n",
    "print(rmse_val)"
   ]
  }
 ],
 "metadata": {
  "kernelspec": {
   "display_name": "ml-zoomcamp",
   "language": "python",
   "name": "python3"
  },
  "language_info": {
   "codemirror_mode": {
    "name": "ipython",
    "version": 3
   },
   "file_extension": ".py",
   "mimetype": "text/x-python",
   "name": "python",
   "nbconvert_exporter": "python",
   "pygments_lexer": "ipython3",
   "version": "3.10.14"
  }
 },
 "nbformat": 4,
 "nbformat_minor": 2
}
